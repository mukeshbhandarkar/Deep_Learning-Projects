{
  "nbformat": 4,
  "nbformat_minor": 0,
  "metadata": {
    "colab": {
      "name": "Quora spam filter.ipynb",
      "provenance": [],
      "collapsed_sections": []
    },
    "kernelspec": {
      "name": "python3",
      "display_name": "Python 3"
    }
  },
  "cells": [
    {
      "cell_type": "markdown",
      "metadata": {
        "id": "VQJgaztpsJ2g",
        "colab_type": "text"
      },
      "source": [
        "Spam filter for Quora questions Download data from here : https://www.dropbox.com/sh/kpf9z73woodfssv/AAAw1_JIzpuVvwteJCma0xMla\n",
        "\n",
        "Goal : Build a model for identifying if a question on Quora is spam\n",
        "\n",
        "Suggested Guidelines :\n",
        "\n",
        "To bring down dimensions of your model you can use glove embedding shared with you ( in the data )\n",
        "\n",
        "Here is how you can use pertained embeddings : https://blog.keras.io/using-pre-trained-word-embeddings-in-a-keras-model.html\n",
        "\n",
        "You'll have to Create and maintain your own train/validation splits for the full data shared with you\n",
        "\n",
        "Your solution needs to be uploaded to GitHub repo of your team"
      ]
    },
    {
      "cell_type": "code",
      "metadata": {
        "id": "2Pg13P7-NTVN",
        "colab_type": "code",
        "outputId": "ad5d80e3-db9e-4b84-cd78-49984a0a294d",
        "colab": {
          "base_uri": "https://localhost:8080/",
          "height": 83
        }
      },
      "source": [
        "import numpy as np\n",
        "import pandas as pd\n",
        "from keras.layers import LSTM,GRU, Activation, Dense, Dropout,Flatten, Input, Embedding\n",
        "from keras.models import Model\n",
        "\n",
        "from keras.models import Sequential\n",
        "from keras.layers.convolutional import Conv1D\n",
        "from keras.layers import MaxPooling1D , GlobalMaxPooling1D"
      ],
      "execution_count": 4,
      "outputs": [
        {
          "output_type": "stream",
          "text": [
            "Using TensorFlow backend.\n"
          ],
          "name": "stderr"
        },
        {
          "output_type": "display_data",
          "data": {
            "text/html": [
              "<p style=\"color: red;\">\n",
              "The default version of TensorFlow in Colab will soon switch to TensorFlow 2.x.<br>\n",
              "We recommend you <a href=\"https://www.tensorflow.org/guide/migrate\" target=\"_blank\">upgrade</a> now \n",
              "or ensure your notebook will continue to use TensorFlow 1.x via the <code>%tensorflow_version 1.x</code> magic:\n",
              "<a href=\"https://colab.research.google.com/notebooks/tensorflow_version.ipynb\" target=\"_blank\">more info</a>.</p>\n"
            ],
            "text/plain": [
              "<IPython.core.display.HTML object>"
            ]
          },
          "metadata": {
            "tags": []
          }
        }
      ]
    },
    {
      "cell_type": "code",
      "metadata": {
        "id": "pI-EyfhtLEWR",
        "colab_type": "code",
        "outputId": "4d2c6466-ef56-42d8-81ec-0fa32f9a1d10",
        "colab": {
          "base_uri": "https://localhost:8080/",
          "height": 404
        }
      },
      "source": [
        "!wget https://www.dropbox.com/sh/kpf9z73woodfssv/AAAwZ5DDt-aHwqZFHYrZ-ZBHa/train.csv"
      ],
      "execution_count": 5,
      "outputs": [
        {
          "output_type": "stream",
          "text": [
            "--2020-01-28 17:59:45--  https://www.dropbox.com/sh/kpf9z73woodfssv/AAAwZ5DDt-aHwqZFHYrZ-ZBHa/train.csv\n",
            "Resolving www.dropbox.com (www.dropbox.com)... 162.125.9.1, 2620:100:601f:1::a27d:901\n",
            "Connecting to www.dropbox.com (www.dropbox.com)|162.125.9.1|:443... connected.\n",
            "HTTP request sent, awaiting response... 301 Moved Permanently\n",
            "Location: /sh/raw/kpf9z73woodfssv/AAAwZ5DDt-aHwqZFHYrZ-ZBHa/train.csv [following]\n",
            "--2020-01-28 17:59:45--  https://www.dropbox.com/sh/raw/kpf9z73woodfssv/AAAwZ5DDt-aHwqZFHYrZ-ZBHa/train.csv\n",
            "Reusing existing connection to www.dropbox.com:443.\n",
            "HTTP request sent, awaiting response... 302 Found\n",
            "Location: https://ucbae2021e2ae6292312caea75d1.dl.dropboxusercontent.com/cd/0/inline/AxCcv2_PxGFWf6RGkb_naZDAhfu6Axpr9L2D_TTz7exF2mOjtLdDY2TATO5FWLu5R0zamv3JD1BkET86LJ8pHVRRzPgK--HRfAk992YCuJTQyg/file# [following]\n",
            "--2020-01-28 17:59:46--  https://ucbae2021e2ae6292312caea75d1.dl.dropboxusercontent.com/cd/0/inline/AxCcv2_PxGFWf6RGkb_naZDAhfu6Axpr9L2D_TTz7exF2mOjtLdDY2TATO5FWLu5R0zamv3JD1BkET86LJ8pHVRRzPgK--HRfAk992YCuJTQyg/file\n",
            "Resolving ucbae2021e2ae6292312caea75d1.dl.dropboxusercontent.com (ucbae2021e2ae6292312caea75d1.dl.dropboxusercontent.com)... 162.125.9.6, 2620:100:601f:6::a27d:906\n",
            "Connecting to ucbae2021e2ae6292312caea75d1.dl.dropboxusercontent.com (ucbae2021e2ae6292312caea75d1.dl.dropboxusercontent.com)|162.125.9.6|:443... connected.\n",
            "HTTP request sent, awaiting response... 200 OK\n",
            "Length: 124206772 (118M) [text/plain]\n",
            "Saving to: ‘train.csv’\n",
            "\n",
            "train.csv           100%[===================>] 118.45M  38.6MB/s    in 3.1s    \n",
            "\n",
            "2020-01-28 17:59:49 (38.6 MB/s) - ‘train.csv’ saved [124206772/124206772]\n",
            "\n"
          ],
          "name": "stdout"
        }
      ]
    },
    {
      "cell_type": "code",
      "metadata": {
        "id": "DqsS5Qk-LO1S",
        "colab_type": "code",
        "outputId": "9460aa24-8803-4ac7-db7c-ad5ab02340b8",
        "colab": {
          "base_uri": "https://localhost:8080/",
          "height": 384
        }
      },
      "source": [
        "!wget http://nlp.stanford.edu/data/glove.6B.zip"
      ],
      "execution_count": 6,
      "outputs": [
        {
          "output_type": "stream",
          "text": [
            "--2020-01-28 17:59:54--  http://nlp.stanford.edu/data/glove.6B.zip\n",
            "Resolving nlp.stanford.edu (nlp.stanford.edu)... 171.64.67.140\n",
            "Connecting to nlp.stanford.edu (nlp.stanford.edu)|171.64.67.140|:80... connected.\n",
            "HTTP request sent, awaiting response... 302 Found\n",
            "Location: https://nlp.stanford.edu/data/glove.6B.zip [following]\n",
            "--2020-01-28 17:59:54--  https://nlp.stanford.edu/data/glove.6B.zip\n",
            "Connecting to nlp.stanford.edu (nlp.stanford.edu)|171.64.67.140|:443... connected.\n",
            "HTTP request sent, awaiting response... 301 Moved Permanently\n",
            "Location: http://downloads.cs.stanford.edu/nlp/data/glove.6B.zip [following]\n",
            "--2020-01-28 17:59:54--  http://downloads.cs.stanford.edu/nlp/data/glove.6B.zip\n",
            "Resolving downloads.cs.stanford.edu (downloads.cs.stanford.edu)... 171.64.64.22\n",
            "Connecting to downloads.cs.stanford.edu (downloads.cs.stanford.edu)|171.64.64.22|:80... connected.\n",
            "HTTP request sent, awaiting response... 200 OK\n",
            "Length: 862182613 (822M) [application/zip]\n",
            "Saving to: ‘glove.6B.zip’\n",
            "\n",
            "glove.6B.zip        100%[===================>] 822.24M  2.06MB/s    in 6m 28s  \n",
            "\n",
            "2020-01-28 18:06:22 (2.12 MB/s) - ‘glove.6B.zip’ saved [862182613/862182613]\n",
            "\n"
          ],
          "name": "stdout"
        }
      ]
    },
    {
      "cell_type": "code",
      "metadata": {
        "id": "ev89JZc7LVe4",
        "colab_type": "code",
        "outputId": "dd7622ad-97c8-4bc6-b9cd-15221dbc211b",
        "colab": {
          "base_uri": "https://localhost:8080/",
          "height": 109
        }
      },
      "source": [
        "#unzip the file \n",
        "!unzip glove*.zip"
      ],
      "execution_count": 7,
      "outputs": [
        {
          "output_type": "stream",
          "text": [
            "Archive:  glove.6B.zip\n",
            "  inflating: glove.6B.50d.txt        \n",
            "  inflating: glove.6B.100d.txt       \n",
            "  inflating: glove.6B.200d.txt       \n",
            "  inflating: glove.6B.300d.txt       \n"
          ],
          "name": "stdout"
        }
      ]
    },
    {
      "cell_type": "code",
      "metadata": {
        "id": "BitQUvDqM_kS",
        "colab_type": "code",
        "colab": {}
      },
      "source": [
        "#store 300 size vector representation different words from the file to a disctionary\n",
        "embedding_index = {}\n",
        "f = open('glove.6B.300d.txt',encoding='utf-8')\n",
        "for line in f:\n",
        "  value = line.split()\n",
        "  word = value[0]\n",
        "  coeffs = np.asarray(value[1:],dtype = 'float32')\n",
        "  embedding_index[word] = coeffs\n",
        "f.close()"
      ],
      "execution_count": 0,
      "outputs": []
    },
    {
      "cell_type": "code",
      "metadata": {
        "id": "ftvcF_tTNPQJ",
        "colab_type": "code",
        "outputId": "2e09c99f-ff46-45a4-ccfa-1d5879919845",
        "colab": {
          "base_uri": "https://localhost:8080/",
          "height": 35
        }
      },
      "source": [
        "len(embedding_index)"
      ],
      "execution_count": 9,
      "outputs": [
        {
          "output_type": "execute_result",
          "data": {
            "text/plain": [
              "400000"
            ]
          },
          "metadata": {
            "tags": []
          },
          "execution_count": 9
        }
      ]
    },
    {
      "cell_type": "code",
      "metadata": {
        "id": "mt13rnhHNp2J",
        "colab_type": "code",
        "colab": {}
      },
      "source": [
        "quora_d = pd.read_csv (\"/content/train.csv\")# reading csv"
      ],
      "execution_count": 0,
      "outputs": []
    },
    {
      "cell_type": "code",
      "metadata": {
        "id": "k_4oZAXDNtUI",
        "colab_type": "code",
        "outputId": "48f918c4-e2ca-4b0b-fc93-41c7caeac3d8",
        "colab": {
          "base_uri": "https://localhost:8080/",
          "height": 35
        }
      },
      "source": [
        "quora_d.shape"
      ],
      "execution_count": 11,
      "outputs": [
        {
          "output_type": "execute_result",
          "data": {
            "text/plain": [
              "(1306122, 3)"
            ]
          },
          "metadata": {
            "tags": []
          },
          "execution_count": 11
        }
      ]
    },
    {
      "cell_type": "code",
      "metadata": {
        "id": "R0HWe19vN1uO",
        "colab_type": "code",
        "outputId": "aa7d0fa3-142f-4b98-d83f-8cf54b509af2",
        "colab": {
          "base_uri": "https://localhost:8080/",
          "height": 206
        }
      },
      "source": [
        "quora_d.tail()"
      ],
      "execution_count": 12,
      "outputs": [
        {
          "output_type": "execute_result",
          "data": {
            "text/html": [
              "<div>\n",
              "<style scoped>\n",
              "    .dataframe tbody tr th:only-of-type {\n",
              "        vertical-align: middle;\n",
              "    }\n",
              "\n",
              "    .dataframe tbody tr th {\n",
              "        vertical-align: top;\n",
              "    }\n",
              "\n",
              "    .dataframe thead th {\n",
              "        text-align: right;\n",
              "    }\n",
              "</style>\n",
              "<table border=\"1\" class=\"dataframe\">\n",
              "  <thead>\n",
              "    <tr style=\"text-align: right;\">\n",
              "      <th></th>\n",
              "      <th>qid</th>\n",
              "      <th>question_text</th>\n",
              "      <th>target</th>\n",
              "    </tr>\n",
              "  </thead>\n",
              "  <tbody>\n",
              "    <tr>\n",
              "      <th>1306117</th>\n",
              "      <td>ffffcc4e2331aaf1e41e</td>\n",
              "      <td>What other technical skills do you need as a c...</td>\n",
              "      <td>0</td>\n",
              "    </tr>\n",
              "    <tr>\n",
              "      <th>1306118</th>\n",
              "      <td>ffffd431801e5a2f4861</td>\n",
              "      <td>Does MS in ECE have good job prospects in USA ...</td>\n",
              "      <td>0</td>\n",
              "    </tr>\n",
              "    <tr>\n",
              "      <th>1306119</th>\n",
              "      <td>ffffd48fb36b63db010c</td>\n",
              "      <td>Is foam insulation toxic?</td>\n",
              "      <td>0</td>\n",
              "    </tr>\n",
              "    <tr>\n",
              "      <th>1306120</th>\n",
              "      <td>ffffec519fa37cf60c78</td>\n",
              "      <td>How can one start a research project based on ...</td>\n",
              "      <td>0</td>\n",
              "    </tr>\n",
              "    <tr>\n",
              "      <th>1306121</th>\n",
              "      <td>ffffed09fedb5088744a</td>\n",
              "      <td>Who wins in a battle between a Wolverine and a...</td>\n",
              "      <td>0</td>\n",
              "    </tr>\n",
              "  </tbody>\n",
              "</table>\n",
              "</div>"
            ],
            "text/plain": [
              "                          qid  ... target\n",
              "1306117  ffffcc4e2331aaf1e41e  ...      0\n",
              "1306118  ffffd431801e5a2f4861  ...      0\n",
              "1306119  ffffd48fb36b63db010c  ...      0\n",
              "1306120  ffffec519fa37cf60c78  ...      0\n",
              "1306121  ffffed09fedb5088744a  ...      0\n",
              "\n",
              "[5 rows x 3 columns]"
            ]
          },
          "metadata": {
            "tags": []
          },
          "execution_count": 12
        }
      ]
    },
    {
      "cell_type": "code",
      "metadata": {
        "id": "F_urSs63OAdf",
        "colab_type": "code",
        "outputId": "2b300114-9639-47c3-d54a-82d44cbd6e37",
        "colab": {
          "base_uri": "https://localhost:8080/",
          "height": 72
        }
      },
      "source": [
        "quora_d['target'].value_counts()"
      ],
      "execution_count": 24,
      "outputs": [
        {
          "output_type": "execute_result",
          "data": {
            "text/plain": [
              "0    1225312\n",
              "1      80810\n",
              "Name: target, dtype: int64"
            ]
          },
          "metadata": {
            "tags": []
          },
          "execution_count": 24
        }
      ]
    },
    {
      "cell_type": "code",
      "metadata": {
        "id": "AC1zC9dPOGac",
        "colab_type": "code",
        "outputId": "ab953795-3904-46a9-e965-9a4e69d113ed",
        "colab": {
          "base_uri": "https://localhost:8080/",
          "height": 333
        }
      },
      "source": [
        "#to check the proportion of the ones to zeros\n",
        "target_count = quora_d['target'].value_counts()\n",
        "\n",
        "print('Class 0:', target_count[0])\n",
        "print('Class 1:', target_count[1])\n",
        "print('Proportion:', round(target_count[0] / target_count[1], 2), ': 1')\n",
        "\n",
        "target_count.plot(kind='bar', title='Count (target)');"
      ],
      "execution_count": 25,
      "outputs": [
        {
          "output_type": "stream",
          "text": [
            "Class 0: 1225312\n",
            "Class 1: 80810\n",
            "Proportion: 15.16 : 1\n"
          ],
          "name": "stdout"
        },
        {
          "output_type": "display_data",
          "data": {
            "image/png": "[encoded data removed]",
            "text/plain": [
              "<Figure size 432x288 with 1 Axes>"
            ]
          },
          "metadata": {
            "tags": []
          }
        }
      ]
    },
    {
      "cell_type": "markdown",
      "metadata": {
        "id": "V6z_CLY9Oavp",
        "colab_type": "text"
      },
      "source": [
        "the above graph shows we have inbalence classes "
      ]
    },
    {
      "cell_type": "code",
      "metadata": {
        "id": "_MzyodGqOxV1",
        "colab_type": "code",
        "colab": {}
      },
      "source": [
        "from sklearn.model_selection import train_test_split\n",
        "q_train , q_test = train_test_split(quora_d, test_size=0.2)"
      ],
      "execution_count": 0,
      "outputs": []
    },
    {
      "cell_type": "code",
      "metadata": {
        "id": "_tL-KCbAOiBY",
        "colab_type": "code",
        "outputId": "e8283afc-546a-4f97-e41c-c4a95d06377e",
        "colab": {
          "base_uri": "https://localhost:8080/",
          "height": 35
        }
      },
      "source": [
        "q_train.shape , q_test.shape"
      ],
      "execution_count": 28,
      "outputs": [
        {
          "output_type": "execute_result",
          "data": {
            "text/plain": [
              "((1044897, 3), (261225, 3))"
            ]
          },
          "metadata": {
            "tags": []
          },
          "execution_count": 28
        }
      ]
    },
    {
      "cell_type": "code",
      "metadata": {
        "id": "GXUxvy8rOn0I",
        "colab_type": "code",
        "colab": {}
      },
      "source": [
        "x_train = q_train['question_text']\n",
        "y_train = q_train['target']\n",
        "x_test  = q_test['question_text']\n",
        "y_test  = q_test['target']"
      ],
      "execution_count": 0,
      "outputs": []
    },
    {
      "cell_type": "code",
      "metadata": {
        "id": "cH-MoRjcO2vL",
        "colab_type": "code",
        "outputId": "2d300b07-e9fb-4621-dc31-945b07d15e4e",
        "colab": {
          "base_uri": "https://localhost:8080/",
          "height": 35
        }
      },
      "source": [
        "x_train.shape , y_train.shape , x_test.shape , y_test.shape"
      ],
      "execution_count": 30,
      "outputs": [
        {
          "output_type": "execute_result",
          "data": {
            "text/plain": [
              "((1044897,), (1044897,), (261225,), (261225,))"
            ]
          },
          "metadata": {
            "tags": []
          },
          "execution_count": 30
        }
      ]
    },
    {
      "cell_type": "code",
      "metadata": {
        "id": "zBEN62M3O5vw",
        "colab_type": "code",
        "outputId": "0bf4423c-e166-483d-e453-4903eef8a1cf",
        "colab": {
          "base_uri": "https://localhost:8080/",
          "height": 35
        }
      },
      "source": [
        "from sklearn.utils import class_weight\n",
        "class_weights = class_weight.compute_class_weight('balanced',\n",
        "                                                 np.unique(y_train),\n",
        "                                                 y_train)\n",
        "class_weights"
      ],
      "execution_count": 31,
      "outputs": [
        {
          "output_type": "execute_result",
          "data": {
            "text/plain": [
              "array([0.53294757, 8.08781368])"
            ]
          },
          "metadata": {
            "tags": []
          },
          "execution_count": 31
        }
      ]
    },
    {
      "cell_type": "code",
      "metadata": {
        "id": "-IWGzFK4O93t",
        "colab_type": "code",
        "outputId": "124d48c7-23a8-47fe-d0fd-2e0213e9f4f3",
        "colab": {
          "base_uri": "https://localhost:8080/",
          "height": 72
        }
      },
      "source": [
        "from keras.preprocessing.text import Tokenizer\n",
        "from keras.preprocessing import sequence\n",
        "from keras.layers import LSTM,Activation,Dense,Input,Embedding,Dropout\n",
        "from keras.models import Model\n",
        "from nltk import word_tokenize\n",
        "import nltk\n",
        "nltk.download('punkt')"
      ],
      "execution_count": 32,
      "outputs": [
        {
          "output_type": "stream",
          "text": [
            "[nltk_data] Downloading package punkt to /root/nltk_data...\n",
            "[nltk_data]   Package punkt is already up-to-date!\n"
          ],
          "name": "stdout"
        },
        {
          "output_type": "execute_result",
          "data": {
            "text/plain": [
              "True"
            ]
          },
          "metadata": {
            "tags": []
          },
          "execution_count": 32
        }
      ]
    },
    {
      "cell_type": "code",
      "metadata": {
        "id": "hqyNdBoUPBs0",
        "colab_type": "code",
        "colab": {}
      },
      "source": [
        "sent_lens=[len(word_tokenize(x)) for x in x_train]"
      ],
      "execution_count": 0,
      "outputs": []
    },
    {
      "cell_type": "code",
      "metadata": {
        "id": "7FrAkm72PGi_",
        "colab_type": "code",
        "outputId": "755a5408-bb73-4bcf-e313-6da6949cc476",
        "colab": {
          "base_uri": "https://localhost:8080/",
          "height": 35
        }
      },
      "source": [
        "print(word_tokenize(x) for x in x_train)"
      ],
      "execution_count": 34,
      "outputs": [
        {
          "output_type": "stream",
          "text": [
            "<generator object <genexpr> at 0x7f3ae4097468>\n"
          ],
          "name": "stdout"
        }
      ]
    },
    {
      "cell_type": "code",
      "metadata": {
        "id": "GbAbwXpmPreq",
        "colab_type": "code",
        "outputId": "2305af9a-aed8-4429-90a3-0ca47c620ac7",
        "colab": {
          "base_uri": "https://localhost:8080/",
          "height": 35
        }
      },
      "source": [
        "min(sent_lens)"
      ],
      "execution_count": 35,
      "outputs": [
        {
          "output_type": "execute_result",
          "data": {
            "text/plain": [
              "1"
            ]
          },
          "metadata": {
            "tags": []
          },
          "execution_count": 35
        }
      ]
    },
    {
      "cell_type": "code",
      "metadata": {
        "id": "RZ8Y7AT0PyXU",
        "colab_type": "code",
        "outputId": "ca89b835-1d89-40d3-fa4f-94fd8c697210",
        "colab": {
          "base_uri": "https://localhost:8080/",
          "height": 35
        }
      },
      "source": [
        "max(sent_lens)"
      ],
      "execution_count": 36,
      "outputs": [
        {
          "output_type": "execute_result",
          "data": {
            "text/plain": [
              "412"
            ]
          },
          "metadata": {
            "tags": []
          },
          "execution_count": 36
        }
      ]
    },
    {
      "cell_type": "code",
      "metadata": {
        "id": "XpmImRRsP0MQ",
        "colab_type": "code",
        "outputId": "424a76ca-1185-40ff-8dcf-1e92a62f5c58",
        "colab": {
          "base_uri": "https://localhost:8080/",
          "height": 35
        }
      },
      "source": [
        "np.percentile(sent_lens,95)"
      ],
      "execution_count": 37,
      "outputs": [
        {
          "output_type": "execute_result",
          "data": {
            "text/plain": [
              "30.0"
            ]
          },
          "metadata": {
            "tags": []
          },
          "execution_count": 37
        }
      ]
    },
    {
      "cell_type": "code",
      "metadata": {
        "id": "M3uE2zRNP3-D",
        "colab_type": "code",
        "colab": {}
      },
      "source": [
        "max_len=31 #taking the 95% quantile value of the sentence length\n",
        "\n",
        "tk=Tokenizer(char_level=False,split=' ') # tokenizing the sentence \n",
        "\n",
        "tk.fit_on_texts(x_train)\n",
        "\n",
        "seq_train=tk.texts_to_sequences(x_train) # create tokens on train\n",
        "seq_test=tk.texts_to_sequences(x_test) # create tokens on test\n",
        "\n",
        "vocab_size=len(tk.word_index)\n",
        "\n",
        "seq_train_matrix=sequence.pad_sequences(seq_train,maxlen=max_len) #padding the sentence with 0 for matching length\n",
        "seq_test_matrix=sequence.pad_sequences(seq_test,maxlen=max_len)"
      ],
      "execution_count": 0,
      "outputs": []
    },
    {
      "cell_type": "code",
      "metadata": {
        "id": "x9ANqPTxP7b4",
        "colab_type": "code",
        "outputId": "3a6e8a54-7d43-4e99-cb67-5e62f18c25b0",
        "colab": {
          "base_uri": "https://localhost:8080/",
          "height": 35
        }
      },
      "source": [
        "seq_train_matrix.shape , seq_test_matrix.shape , vocab_size"
      ],
      "execution_count": 39,
      "outputs": [
        {
          "output_type": "execute_result",
          "data": {
            "text/plain": [
              "((1044897, 31), (261225, 31), 195905)"
            ]
          },
          "metadata": {
            "tags": []
          },
          "execution_count": 39
        }
      ]
    },
    {
      "cell_type": "code",
      "metadata": {
        "id": "Tx4CxAZ9QQwO",
        "colab_type": "code",
        "outputId": "0bafacbb-2f69-47ad-bc98-b2f2facb99fc",
        "colab": {
          "base_uri": "https://localhost:8080/",
          "height": 72
        }
      },
      "source": [
        "seq_train_matrix[1]"
      ],
      "execution_count": 40,
      "outputs": [
        {
          "output_type": "execute_result",
          "data": {
            "text/plain": [
              "array([   0,    0,    0,    0,    0,    0,    0,    0,    0,    0,    0,\n",
              "          0,    0,    0,    0,   11,    1,  853,   37,   83,   36,  940,\n",
              "         36,   47,   12,   67, 2249,   83,  565,    3,  282], dtype=int32)"
            ]
          },
          "metadata": {
            "tags": []
          },
          "execution_count": 40
        }
      ]
    },
    {
      "cell_type": "code",
      "metadata": {
        "id": "XofbXZfEQVZb",
        "colab_type": "code",
        "colab": {}
      },
      "source": [
        "# creating our own embedding matrix to bring down the size to 300\n",
        "# we'll use 300 D vector representation of the words from pretrained embedding index \n",
        "# that we downloaded \n",
        "\n",
        "embedding_matrix=np.zeros((vocab_size+1,300))\n",
        "\n",
        "for word,i in tk.word_index.items():\n",
        "    embed_vector=embedding_index.get(word)\n",
        "    if embed_vector is not None:\n",
        "        embedding_matrix[i]=embed_vector\n",
        "# if there are specific words which are not present in pretrained embedding \n",
        "# their weights will remain 0. if there are too many such words \n",
        "# then you should probably not use pretrained embeddings"
      ],
      "execution_count": 0,
      "outputs": []
    },
    {
      "cell_type": "markdown",
      "metadata": {
        "id": "sF_R8tzWQk3N",
        "colab_type": "text"
      },
      "source": [
        "now we can try to make model with GRU"
      ]
    },
    {
      "cell_type": "code",
      "metadata": {
        "id": "V1WX3gpDQcJl",
        "colab_type": "code",
        "outputId": "b88ae19d-bc22-47fe-8fe5-05bcf1e9a68e",
        "colab": {
          "base_uri": "https://localhost:8080/",
          "height": 515
        }
      },
      "source": [
        "inputs=Input(name='text_input',shape=[max_len])\n",
        "embed=Embedding(vocab_size+1,300,input_length=max_len,mask_zero=True,\n",
        "                weights=[embedding_matrix],trainable=False)(inputs)\n",
        "\n",
        "GRU_layer=GRU(50)(embed)\n",
        "\n",
        "dense1=Dense(10,activation='relu')(GRU_layer)\n",
        "drop=Dropout(0.2)(dense1)\n",
        "\n",
        "final_layer=Dense(1,activation='sigmoid')(drop)\n",
        "\n",
        "model_GRU=Model(inputs=inputs,outputs=final_layer)"
      ],
      "execution_count": 42,
      "outputs": [
        {
          "output_type": "stream",
          "text": [
            "WARNING:tensorflow:From /usr/local/lib/python3.6/dist-packages/keras/backend/tensorflow_backend.py:541: The name tf.placeholder is deprecated. Please use tf.compat.v1.placeholder instead.\n",
            "\n",
            "WARNING:tensorflow:From /usr/local/lib/python3.6/dist-packages/keras/backend/tensorflow_backend.py:66: The name tf.get_default_graph is deprecated. Please use tf.compat.v1.get_default_graph instead.\n",
            "\n",
            "WARNING:tensorflow:From /usr/local/lib/python3.6/dist-packages/keras/backend/tensorflow_backend.py:4432: The name tf.random_uniform is deprecated. Please use tf.random.uniform instead.\n",
            "\n",
            "WARNING:tensorflow:From /usr/local/lib/python3.6/dist-packages/keras/backend/tensorflow_backend.py:190: The name tf.get_default_session is deprecated. Please use tf.compat.v1.get_default_session instead.\n",
            "\n",
            "WARNING:tensorflow:From /usr/local/lib/python3.6/dist-packages/keras/backend/tensorflow_backend.py:197: The name tf.ConfigProto is deprecated. Please use tf.compat.v1.ConfigProto instead.\n",
            "\n",
            "WARNING:tensorflow:From /usr/local/lib/python3.6/dist-packages/keras/backend/tensorflow_backend.py:203: The name tf.Session is deprecated. Please use tf.compat.v1.Session instead.\n",
            "\n",
            "WARNING:tensorflow:From /usr/local/lib/python3.6/dist-packages/keras/backend/tensorflow_backend.py:207: The name tf.global_variables is deprecated. Please use tf.compat.v1.global_variables instead.\n",
            "\n",
            "WARNING:tensorflow:From /usr/local/lib/python3.6/dist-packages/keras/backend/tensorflow_backend.py:216: The name tf.is_variable_initialized is deprecated. Please use tf.compat.v1.is_variable_initialized instead.\n",
            "\n",
            "WARNING:tensorflow:From /usr/local/lib/python3.6/dist-packages/keras/backend/tensorflow_backend.py:223: The name tf.variables_initializer is deprecated. Please use tf.compat.v1.variables_initializer instead.\n",
            "\n",
            "WARNING:tensorflow:From /usr/local/lib/python3.6/dist-packages/keras/backend/tensorflow_backend.py:3239: where (from tensorflow.python.ops.array_ops) is deprecated and will be removed in a future version.\n",
            "Instructions for updating:\n",
            "Use tf.where in 2.0, which has the same broadcast rule as np.where\n",
            "WARNING:tensorflow:From /usr/local/lib/python3.6/dist-packages/keras/backend/tensorflow_backend.py:148: The name tf.placeholder_with_default is deprecated. Please use tf.compat.v1.placeholder_with_default instead.\n",
            "\n",
            "WARNING:tensorflow:From /usr/local/lib/python3.6/dist-packages/keras/backend/tensorflow_backend.py:3733: calling dropout (from tensorflow.python.ops.nn_ops) with keep_prob is deprecated and will be removed in a future version.\n",
            "Instructions for updating:\n",
            "Please use `rate` instead of `keep_prob`. Rate should be set to `rate = 1 - keep_prob`.\n"
          ],
          "name": "stdout"
        }
      ]
    },
    {
      "cell_type": "code",
      "metadata": {
        "id": "ILyNqjy0Qq7A",
        "colab_type": "code",
        "outputId": "7cab363a-50ba-4d38-91c4-934eef8face7",
        "colab": {
          "base_uri": "https://localhost:8080/",
          "height": 384
        }
      },
      "source": [
        "inputs=Input(name='text_input',shape=[max_len])\n",
        "embed=Embedding(vocab_size+1,300,input_length=max_len,mask_zero=True,\n",
        "                weights=[embedding_matrix],trainable=False)(inputs)\n",
        "\n",
        "GRU_layer=GRU(50)(embed)\n",
        "\n",
        "dense1=Dense(10,activation='relu')(GRU_layer)\n",
        "drop=Dropout(0.2)(dense1)\n",
        "\n",
        "final_layer=Dense(1,activation='sigmoid')(drop)\n",
        "\n",
        "model_GRU=Model(inputs=inputs,outputs=final_layer)\n",
        "model_GRU.summary()"
      ],
      "execution_count": 43,
      "outputs": [
        {
          "output_type": "stream",
          "text": [
            "Model: \"model_2\"\n",
            "_________________________________________________________________\n",
            "Layer (type)                 Output Shape              Param #   \n",
            "=================================================================\n",
            "text_input (InputLayer)      (None, 31)                0         \n",
            "_________________________________________________________________\n",
            "embedding_2 (Embedding)      (None, 31, 300)           58771800  \n",
            "_________________________________________________________________\n",
            "gru_2 (GRU)                  (None, 50)                52650     \n",
            "_________________________________________________________________\n",
            "dense_3 (Dense)              (None, 10)                510       \n",
            "_________________________________________________________________\n",
            "dropout_2 (Dropout)          (None, 10)                0         \n",
            "_________________________________________________________________\n",
            "dense_4 (Dense)              (None, 1)                 11        \n",
            "=================================================================\n",
            "Total params: 58,824,971\n",
            "Trainable params: 53,171\n",
            "Non-trainable params: 58,771,800\n",
            "_________________________________________________________________\n"
          ],
          "name": "stdout"
        }
      ]
    },
    {
      "cell_type": "code",
      "metadata": {
        "id": "IptIt4-aRjQO",
        "colab_type": "code",
        "colab": {}
      },
      "source": [
        "from keras.callbacks import ModelCheckpoint\n",
        "import os\n",
        "outputFolder = './content/Model_output/'\n",
        "if not os.path.exists(outputFolder):\n",
        "    os.makedirs(outputFolder)\n",
        "filepath = outputFolder+\"/weights-{epoch:02d}-{val_acc:.4f}.h5\"\n",
        "checkpoint = ModelCheckpoint(filepath, monitor='val_acc', verbose=1, \n",
        "                             save_best_only=False, save_weights_only=True, \n",
        "                             mode='auto', period=1)\n",
        "# this will save the weights every 10 epoch\n",
        "\n",
        "from keras.callbacks import EarlyStopping\n",
        "earlystop = EarlyStopping(monitor='val_acc', min_delta=0.0001, patience=3,\n",
        "                          verbose=1, mode='auto')"
      ],
      "execution_count": 0,
      "outputs": []
    },
    {
      "cell_type": "code",
      "metadata": {
        "id": "nrHORDcKQ4Xl",
        "colab_type": "code",
        "outputId": "151cfcc4-1787-47eb-f679-b2b3fbb2e8d3",
        "colab": {
          "base_uri": "https://localhost:8080/",
          "height": 110
        }
      },
      "source": [
        "model_GRU.compile(optimizer='adam',loss='binary_crossentropy',metrics=['accuracy'])"
      ],
      "execution_count": 45,
      "outputs": [
        {
          "output_type": "stream",
          "text": [
            "WARNING:tensorflow:From /usr/local/lib/python3.6/dist-packages/keras/optimizers.py:793: The name tf.train.Optimizer is deprecated. Please use tf.compat.v1.train.Optimizer instead.\n",
            "\n",
            "WARNING:tensorflow:From /usr/local/lib/python3.6/dist-packages/keras/backend/tensorflow_backend.py:3657: The name tf.log is deprecated. Please use tf.math.log instead.\n",
            "\n"
          ],
          "name": "stdout"
        }
      ]
    },
    {
      "cell_type": "code",
      "metadata": {
        "id": "GuZS964mRRRz",
        "colab_type": "code",
        "colab": {}
      },
      "source": [
        "from keras.callbacks import ModelCheckpoint\n",
        "import os\n",
        "outputFolder = './content/Model_output/'\n",
        "if not os.path.exists(outputFolder):\n",
        "    os.makedirs(outputFolder)\n",
        "filepath = outputFolder+\"/weights-{epoch:02d}-{val_acc:.4f}.h5\"\n",
        "checkpoint = ModelCheckpoint(filepath, monitor='val_acc', verbose=1, \n",
        "                             save_best_only=False, save_weights_only=True, \n",
        "                             mode='auto', period=1)\n",
        "# this will save the weights every 10 epoch\n",
        "\n",
        "from keras.callbacks import EarlyStopping\n",
        "earlystop = EarlyStopping(monitor='val_acc', min_delta=0.0001, patience=3,\n",
        "                          verbose=1, mode='auto')"
      ],
      "execution_count": 0,
      "outputs": []
    },
    {
      "cell_type": "code",
      "metadata": {
        "id": "aG-fcclrRVrR",
        "colab_type": "code",
        "outputId": "2b48fefb-5a4b-4057-91a2-2f4f6b518f28",
        "colab": {
          "base_uri": "https://localhost:8080/",
          "height": 882
        }
      },
      "source": [
        "model_GRU.fit(seq_train_matrix,y_train,validation_data=[seq_test_matrix,y_test],epochs=10,class_weight={0:0.53,1:8},\n",
        "          batch_size=10000,callbacks=[earlystop,checkpoint])"
      ],
      "execution_count": 48,
      "outputs": [
        {
          "output_type": "stream",
          "text": [
            "WARNING:tensorflow:From /usr/local/lib/python3.6/dist-packages/keras/backend/tensorflow_backend.py:1033: The name tf.assign_add is deprecated. Please use tf.compat.v1.assign_add instead.\n",
            "\n",
            "WARNING:tensorflow:From /usr/local/lib/python3.6/dist-packages/keras/backend/tensorflow_backend.py:1020: The name tf.assign is deprecated. Please use tf.compat.v1.assign instead.\n",
            "\n",
            "Train on 1044897 samples, validate on 261225 samples\n",
            "Epoch 1/10\n",
            "1044897/1044897 [==============================] - 395s 378us/step - loss: 0.4271 - acc: 0.7948 - val_loss: 0.3443 - val_acc: 0.8500\n",
            "\n",
            "Epoch 00001: saving model to ./content/Model_output//weights-01-0.8500.h5\n",
            "Epoch 2/10\n",
            "1044897/1044897 [==============================] - 390s 373us/step - loss: 0.3169 - acc: 0.8646 - val_loss: 0.3666 - val_acc: 0.8345\n",
            "\n",
            "Epoch 00002: saving model to ./content/Model_output//weights-02-0.8345.h5\n",
            "Epoch 3/10\n",
            "1044897/1044897 [==============================] - 393s 376us/step - loss: 0.2970 - acc: 0.8718 - val_loss: 0.3155 - val_acc: 0.8650\n",
            "\n",
            "Epoch 00003: saving model to ./content/Model_output//weights-03-0.8650.h5\n",
            "Epoch 4/10\n",
            "1044897/1044897 [==============================] - 400s 383us/step - loss: 0.2844 - acc: 0.8783 - val_loss: 0.2672 - val_acc: 0.8870\n",
            "\n",
            "Epoch 00004: saving model to ./content/Model_output//weights-04-0.8870.h5\n",
            "Epoch 5/10\n",
            "1044897/1044897 [==============================] - 395s 378us/step - loss: 0.2757 - acc: 0.8812 - val_loss: 0.2615 - val_acc: 0.8890\n",
            "\n",
            "Epoch 00005: saving model to ./content/Model_output//weights-05-0.8890.h5\n",
            "Epoch 6/10\n",
            "1044897/1044897 [==============================] - 399s 381us/step - loss: 0.2677 - acc: 0.8845 - val_loss: 0.2366 - val_acc: 0.9005\n",
            "\n",
            "Epoch 00006: saving model to ./content/Model_output//weights-06-0.9005.h5\n",
            "Epoch 7/10\n",
            "1044897/1044897 [==============================] - 395s 378us/step - loss: 0.2607 - acc: 0.8870 - val_loss: 0.2607 - val_acc: 0.8885\n",
            "\n",
            "Epoch 00007: saving model to ./content/Model_output//weights-07-0.8885.h5\n",
            "Epoch 8/10\n",
            "1044897/1044897 [==============================] - 404s 386us/step - loss: 0.2551 - acc: 0.8895 - val_loss: 0.2546 - val_acc: 0.8930\n",
            "\n",
            "Epoch 00008: saving model to ./content/Model_output//weights-08-0.8930.h5\n",
            "Epoch 9/10\n",
            "1044897/1044897 [==============================] - 404s 387us/step - loss: 0.2490 - acc: 0.8906 - val_loss: 0.2277 - val_acc: 0.9038\n",
            "\n",
            "Epoch 00009: saving model to ./content/Model_output//weights-09-0.9038.h5\n",
            "Epoch 10/10\n",
            "1044897/1044897 [==============================] - 409s 391us/step - loss: 0.2445 - acc: 0.8925 - val_loss: 0.2711 - val_acc: 0.8834\n",
            "\n",
            "Epoch 00010: saving model to ./content/Model_output//weights-10-0.8834.h5\n"
          ],
          "name": "stdout"
        },
        {
          "output_type": "execute_result",
          "data": {
            "text/plain": [
              "<keras.callbacks.History at 0x7f3ac9f327b8>"
            ]
          },
          "metadata": {
            "tags": []
          },
          "execution_count": 48
        }
      ]
    },
    {
      "cell_type": "code",
      "metadata": {
        "id": "SLJ0yUDaRbBR",
        "colab_type": "code",
        "colab": {
          "base_uri": "https://localhost:8080/",
          "height": 35
        },
        "outputId": "8710c42a-faef-4f29-ddd9-e5ff70a4622d"
      },
      "source": [
        "p=model_GRU.predict(seq_test_matrix)\n",
        "from sklearn.metrics import roc_auc_score\n",
        "roc_auc_score(y_test,p)"
      ],
      "execution_count": 49,
      "outputs": [
        {
          "output_type": "execute_result",
          "data": {
            "text/plain": [
              "0.9579191791359627"
            ]
          },
          "metadata": {
            "tags": []
          },
          "execution_count": 49
        }
      ]
    },
    {
      "cell_type": "code",
      "metadata": {
        "id": "HnIRP5oRqK7u",
        "colab_type": "code",
        "colab": {
          "base_uri": "https://localhost:8080/",
          "height": 35
        },
        "outputId": "4c15251a-04a0-4741-be30-cfc1730d514a"
      },
      "source": [
        "from sklearn.metrics import classification_report,f1_score\n",
        "print(f1_score(y_test,p >.50))"
      ],
      "execution_count": 50,
      "outputs": [
        {
          "output_type": "stream",
          "text": [
            "0.49377586464790835\n"
          ],
          "name": "stdout"
        }
      ]
    },
    {
      "cell_type": "code",
      "metadata": {
        "id": "R3_Fb6-YqfmS",
        "colab_type": "code",
        "colab": {
          "base_uri": "https://localhost:8080/",
          "height": 182
        },
        "outputId": "c335d5aa-a1b4-4446-98b7-91458ba8e975"
      },
      "source": [
        "print(classification_report(y_test,p>.50))"
      ],
      "execution_count": 51,
      "outputs": [
        {
          "output_type": "stream",
          "text": [
            "              precision    recall  f1-score   support\n",
            "\n",
            "           0       0.99      0.88      0.93    245012\n",
            "           1       0.34      0.92      0.49     16213\n",
            "\n",
            "    accuracy                           0.88    261225\n",
            "   macro avg       0.67      0.90      0.71    261225\n",
            "weighted avg       0.95      0.88      0.91    261225\n",
            "\n"
          ],
          "name": "stdout"
        }
      ]
    },
    {
      "cell_type": "code",
      "metadata": {
        "id": "NR2z_tTqqkcF",
        "colab_type": "code",
        "colab": {}
      },
      "source": [
        "from keras.models import load_model\n",
        "\n",
        "model_GRU.save('Project3_Model.h5')  # creates a HDF5 file 'my_model.h5'"
      ],
      "execution_count": 0,
      "outputs": []
    },
    {
      "cell_type": "code",
      "metadata": {
        "id": "GjVwldn1qyKT",
        "colab_type": "code",
        "colab": {
          "base_uri": "https://localhost:8080/",
          "height": 35
        },
        "outputId": "cb44858d-bb58-42ad-96f0-34364db9e550"
      },
      "source": [
        "# serialize model to JSON\n",
        "model_json = model_GRU.to_json()\n",
        "with open(\"model.json\", \"w\") as json_file:\n",
        "    json_file.write(model_json)\n",
        "# serialize weights to HDF5\n",
        "model_GRU.save_weights(\"model.h5\")\n",
        "print(\"Saved model to disk\")"
      ],
      "execution_count": 53,
      "outputs": [
        {
          "output_type": "stream",
          "text": [
            "Saved model to disk\n"
          ],
          "name": "stdout"
        }
      ]
    },
    {
      "cell_type": "code",
      "metadata": {
        "id": "KavaI7jVq2SE",
        "colab_type": "code",
        "colab": {
          "base_uri": "https://localhost:8080/",
          "height": 146
        },
        "outputId": "4914de22-c0d6-44b1-e3e5-292265f66f3d"
      },
      "source": [
        "p"
      ],
      "execution_count": 56,
      "outputs": [
        {
          "output_type": "execute_result",
          "data": {
            "text/plain": [
              "array([[0.50884783],\n",
              "       [0.06489378],\n",
              "       [0.59140193],\n",
              "       ...,\n",
              "       [0.15317315],\n",
              "       [0.44833362],\n",
              "       [0.6457561 ]], dtype=float32)"
            ]
          },
          "metadata": {
            "tags": []
          },
          "execution_count": 56
        }
      ]
    },
    {
      "cell_type": "code",
      "metadata": {
        "id": "LXuqcrjKrTZD",
        "colab_type": "code",
        "colab": {}
      },
      "source": [
        "#submitted by mukesh b"
      ],
      "execution_count": 0,
      "outputs": []
    },
    {
      "cell_type": "code",
      "metadata": {
        "id": "z_xfRvfbresH",
        "colab_type": "code",
        "colab": {}
      },
      "source": [
        ""
      ],
      "execution_count": 0,
      "outputs": []
    }
  ]
}